{
  "cells": [
    {
      "cell_type": "markdown",
      "metadata": {},
      "source": [
        "# Ingredient Database Explorer\n",
        "\n",
        "This notebook provides a comprehensive walkthrough of the ingredient database for data analysts.\n",
        "\n",
        "## Database Schema Overview\n",
        "\n",
        "The database contains the following tables:\n",
        "\n",
        "1. **`ingredient`** - Ingredients from OpenFoodFacts taxonomy\n",
        "2. **`allergen`** - Allergen taxonomy \n",
        "3. **`ingredient_allergen`** - Many-to-many relationship between ingredients and allergens\n",
        "4. **`product`** - Product information\n",
        "5. **`product_ingredient`** - Many-to-many relationship between products and ingredients\n",
        "6. **`product_allergen`** - Product-allergen relationships for fast lookups\n",
        "\n",
        "Let's explore each table and see how they relate to each other!\n"
      ]
    },
    {
      "cell_type": "markdown",
      "metadata": {},
      "source": [
        "## Setup: Import Libraries and Connect to Database\n"
      ]
    },
    {
      "cell_type": "code",
      "execution_count": 2,
      "metadata": {},
      "outputs": [
        {
          "ename": "ModuleNotFoundError",
          "evalue": "No module named 'pandas'",
          "output_type": "error",
          "traceback": [
            "\u001b[0;31m---------------------------------------------------------------------------\u001b[0m",
            "\u001b[0;31mModuleNotFoundError\u001b[0m                       Traceback (most recent call last)",
            "Cell \u001b[0;32mIn[2], line 3\u001b[0m\n\u001b[1;32m      1\u001b[0m \u001b[38;5;66;03m# Import required libraries\u001b[39;00m\n\u001b[1;32m      2\u001b[0m \u001b[38;5;28;01mimport\u001b[39;00m\u001b[38;5;250m \u001b[39m\u001b[38;5;21;01msqlite3\u001b[39;00m\n\u001b[0;32m----> 3\u001b[0m \u001b[38;5;28;01mimport\u001b[39;00m\u001b[38;5;250m \u001b[39m\u001b[38;5;21;01mpandas\u001b[39;00m\u001b[38;5;250m \u001b[39m\u001b[38;5;28;01mas\u001b[39;00m\u001b[38;5;250m \u001b[39m\u001b[38;5;21;01mpd\u001b[39;00m\n\u001b[1;32m      4\u001b[0m \u001b[38;5;28;01mimport\u001b[39;00m\u001b[38;5;250m \u001b[39m\u001b[38;5;21;01mnumpy\u001b[39;00m\u001b[38;5;250m \u001b[39m\u001b[38;5;28;01mas\u001b[39;00m\u001b[38;5;250m \u001b[39m\u001b[38;5;21;01mnp\u001b[39;00m\n\u001b[1;32m      5\u001b[0m \u001b[38;5;28;01mfrom\u001b[39;00m\u001b[38;5;250m \u001b[39m\u001b[38;5;21;01mpathlib\u001b[39;00m\u001b[38;5;250m \u001b[39m\u001b[38;5;28;01mimport\u001b[39;00m Path\n",
            "\u001b[0;31mModuleNotFoundError\u001b[0m: No module named 'pandas'"
          ]
        }
      ],
      "source": [
        "# Import required libraries\n",
        "import sqlite3\n",
        "import pandas as pd\n",
        "import numpy as np\n",
        "from pathlib import Path\n",
        "\n",
        "# For visualizations (optional - install if needed)\n",
        "try:\n",
        "    import matplotlib.pyplot as plt\n",
        "    import seaborn as sns\n",
        "    sns.set_style('whitegrid')\n",
        "    HAS_VIZ = True\n",
        "except ImportError:\n",
        "    print(\"Matplotlib/Seaborn not installed. Visualizations will be skipped.\")\n",
        "    print(\"To install: pip install matplotlib seaborn\")\n",
        "    HAS_VIZ = False\n",
        "\n",
        "# Display settings for pandas\n",
        "pd.set_option('display.max_columns', None)\n",
        "pd.set_option('display.max_colwidth', 100)\n",
        "pd.set_option('display.width', None)\n",
        "\n",
        "print(\"✅ Libraries imported successfully!\")\n"
      ]
    },
    {
      "cell_type": "code",
      "execution_count": null,
      "metadata": {},
      "outputs": [],
      "source": [
        "# Connect to the SQLite database\n",
        "db_path = Path('ingredient_api.db')\n",
        "\n",
        "if not db_path.exists():\n",
        "    print(f\"⚠️  Database not found at {db_path}\")\n",
        "    print(\"Please ensure the database exists and you've imported data.\")\n",
        "else:\n",
        "    print(f\"✅ Database found at {db_path}\")\n",
        "\n",
        "# Create connection\n",
        "conn = sqlite3.connect(db_path)\n",
        "print(\"\\n✅ Connected to database successfully!\")\n"
      ]
    },
    {
      "cell_type": "markdown",
      "metadata": {},
      "source": [
        "## 1. Explore the Ingredient Table\n",
        "\n",
        "The `ingredient` table contains the core ingredient taxonomy from OpenFoodFacts.\n"
      ]
    },
    {
      "cell_type": "code",
      "execution_count": null,
      "metadata": {},
      "outputs": [],
      "source": [
        "# Get total count of ingredients\n",
        "ingredient_count = pd.read_sql_query(\n",
        "    \"SELECT COUNT(*) as total_ingredients FROM ingredient\",\n",
        "    conn\n",
        ")\n",
        "print(f\"Total Ingredients: {ingredient_count['total_ingredients'][0]:,}\")\n",
        "\n",
        "# View first few ingredients\n",
        "ingredients_sample = pd.read_sql_query(\n",
        "    \"\"\"\n",
        "    SELECT id, code, name, parent_code, allergen_code, source, last_updated\n",
        "    FROM ingredient\n",
        "    LIMIT 10\n",
        "    \"\"\",\n",
        "    conn\n",
        ")\n",
        "\n",
        "print(\"\\n📊 Sample Ingredients:\")\n",
        "ingredients_sample\n"
      ]
    },
    {
      "cell_type": "code",
      "execution_count": null,
      "metadata": {},
      "outputs": [],
      "source": [
        "# Explore ingredient sources\n",
        "source_distribution = pd.read_sql_query(\n",
        "    \"\"\"\n",
        "    SELECT source, COUNT(*) as count\n",
        "    FROM ingredient\n",
        "    GROUP BY source\n",
        "    ORDER BY count DESC\n",
        "    \"\"\",\n",
        "    conn\n",
        ")\n",
        "\n",
        "print(\"📊 Ingredients by Source:\")\n",
        "source_distribution\n"
      ]
    },
    {
      "cell_type": "code",
      "execution_count": null,
      "metadata": {},
      "outputs": [],
      "source": [
        "# Search for specific ingredients (e.g., containing 'milk')\n",
        "search_term = 'milk'\n",
        "milk_ingredients = pd.read_sql_query(\n",
        "    f\"\"\"\n",
        "    SELECT id, code, name, parent_code\n",
        "    FROM ingredient\n",
        "    WHERE name LIKE '%{search_term}%'\n",
        "    LIMIT 20\n",
        "    \"\"\",\n",
        "    conn\n",
        ")\n",
        "\n",
        "print(f\"\\n🔍 Ingredients containing '{search_term}':\")\n",
        "milk_ingredients\n"
      ]
    },
    {
      "cell_type": "markdown",
      "metadata": {},
      "source": [
        "## 2. Explore the Allergen Table\n",
        "\n",
        "The `allergen` table contains allergen information from OpenFoodFacts.\n"
      ]
    },
    {
      "cell_type": "code",
      "execution_count": null,
      "metadata": {},
      "outputs": [],
      "source": [
        "# Get total count of allergens\n",
        "allergen_count = pd.read_sql_query(\n",
        "    \"SELECT COUNT(*) as total_allergens FROM allergen\",\n",
        "    conn\n",
        ")\n",
        "print(f\"Total Allergens: {allergen_count['total_allergens'][0]:,}\")\n",
        "\n",
        "# View all allergens\n",
        "allergens = pd.read_sql_query(\n",
        "    \"\"\"\n",
        "    SELECT id, code, name, category, severity_level\n",
        "    FROM allergen\n",
        "    ORDER BY name\n",
        "    \"\"\",\n",
        "    conn\n",
        ")\n",
        "\n",
        "print(\"\\n📊 All Allergens:\")\n",
        "allergens\n"
      ]
    },
    {
      "cell_type": "markdown",
      "metadata": {},
      "source": [
        "## 3. Ingredient-Allergen Relationships (JOIN Example)\n",
        "\n",
        "The `ingredient_allergen` table links ingredients to their allergens. Let's explore this relationship!\n"
      ]
    },
    {
      "cell_type": "code",
      "execution_count": null,
      "metadata": {},
      "outputs": [],
      "source": [
        "# Count of ingredient-allergen relationships\n",
        "relationship_count = pd.read_sql_query(\n",
        "    \"SELECT COUNT(*) as total_relationships FROM ingredient_allergen\",\n",
        "    conn\n",
        ")\n",
        "print(f\"Total Ingredient-Allergen Relationships: {relationship_count['total_relationships'][0]:,}\")\n"
      ]
    },
    {
      "cell_type": "code",
      "execution_count": null,
      "metadata": {},
      "outputs": [],
      "source": [
        "# 🔗 JOIN Example: Get ingredients with their allergen names\n",
        "ingredients_with_allergens = pd.read_sql_query(\n",
        "    \"\"\"\n",
        "    SELECT \n",
        "        i.name as ingredient_name,\n",
        "        a.name as allergen_name,\n",
        "        ia.certainty,\n",
        "        ia.source\n",
        "    FROM ingredient_allergen ia\n",
        "    JOIN ingredient i ON ia.ingredient_id = i.id\n",
        "    JOIN allergen a ON ia.allergen_id = a.id\n",
        "    LIMIT 30\n",
        "    \"\"\",\n",
        "    conn\n",
        ")\n",
        "\n",
        "print(\"\\n🔗 Ingredients with their Allergens (JOIN Example):\")\n",
        "ingredients_with_allergens\n"
      ]
    },
    {
      "cell_type": "code",
      "execution_count": null,
      "metadata": {},
      "outputs": [],
      "source": [
        "# Find which ingredients are associated with each allergen\n",
        "allergen_ingredient_counts = pd.read_sql_query(\n",
        "    \"\"\"\n",
        "    SELECT \n",
        "        a.name as allergen_name,\n",
        "        COUNT(DISTINCT ia.ingredient_id) as ingredient_count\n",
        "    FROM allergen a\n",
        "    LEFT JOIN ingredient_allergen ia ON a.id = ia.allergen_id\n",
        "    GROUP BY a.id, a.name\n",
        "    ORDER BY ingredient_count DESC\n",
        "    \"\"\",\n",
        "    conn\n",
        ")\n",
        "\n",
        "print(\"\\n📊 How many ingredients are associated with each allergen:\")\n",
        "allergen_ingredient_counts\n"
      ]
    },
    {
      "cell_type": "code",
      "execution_count": null,
      "metadata": {},
      "outputs": [],
      "source": [
        "# Visualize allergen distribution\n",
        "if HAS_VIZ and len(allergen_ingredient_counts) > 0:\n",
        "    plt.figure(figsize=(12, 6))\n",
        "    plt.barh(allergen_ingredient_counts['allergen_name'], \n",
        "             allergen_ingredient_counts['ingredient_count'])\n",
        "    plt.xlabel('Number of Ingredients')\n",
        "    plt.ylabel('Allergen')\n",
        "    plt.title('Number of Ingredients per Allergen')\n",
        "    plt.tight_layout()\n",
        "    plt.show()\n",
        "else:\n",
        "    print(\"Visualization skipped (matplotlib not available or no data)\")\n"
      ]
    },
    {
      "cell_type": "markdown",
      "metadata": {},
      "source": [
        "## 4. Explore Products\n",
        "\n",
        "The `product` table contains product information from OpenFoodFacts.\n"
      ]
    },
    {
      "cell_type": "code",
      "execution_count": null,
      "metadata": {},
      "outputs": [],
      "source": [
        "# Get total count of products\n",
        "product_count = pd.read_sql_query(\n",
        "    \"SELECT COUNT(*) as total_products FROM product\",\n",
        "    conn\n",
        ")\n",
        "print(f\"Total Products: {product_count['total_products'][0]:,}\")\n",
        "\n",
        "# Sample products\n",
        "products_sample = pd.read_sql_query(\n",
        "    \"\"\"\n",
        "    SELECT id, barcode, name, brand, lang, created_at\n",
        "    FROM product\n",
        "    LIMIT 10\n",
        "    \"\"\",\n",
        "    conn\n",
        ")\n",
        "\n",
        "print(\"\\n📊 Sample Products:\")\n",
        "products_sample\n"
      ]
    },
    {
      "cell_type": "code",
      "execution_count": null,
      "metadata": {},
      "outputs": [],
      "source": [
        "# Top brands by product count\n",
        "top_brands = pd.read_sql_query(\n",
        "    \"\"\"\n",
        "    SELECT \n",
        "        COALESCE(brand, 'Unknown') as brand,\n",
        "        COUNT(*) as product_count\n",
        "    FROM product\n",
        "    GROUP BY brand\n",
        "    ORDER BY product_count DESC\n",
        "    LIMIT 15\n",
        "    \"\"\",\n",
        "    conn\n",
        ")\n",
        "\n",
        "print(\"\\n📊 Top 15 Brands by Product Count:\")\n",
        "top_brands\n"
      ]
    },
    {
      "cell_type": "markdown",
      "metadata": {},
      "source": [
        "## 5. Product-Ingredient Relationships (Multi-table JOIN)\n",
        "\n",
        "The `product_ingredient` table links products to their ingredients. This is where it gets interesting!\n"
      ]
    },
    {
      "cell_type": "code",
      "execution_count": null,
      "metadata": {},
      "outputs": [],
      "source": [
        "# 🔗 JOIN: Get products with their ingredients\n",
        "products_with_ingredients = pd.read_sql_query(\n",
        "    \"\"\"\n",
        "    SELECT \n",
        "        p.name as product_name,\n",
        "        p.brand,\n",
        "        i.name as ingredient_name,\n",
        "        pi.rank,\n",
        "        pi.percent_estimate\n",
        "    FROM product_ingredient pi\n",
        "    JOIN product p ON pi.product_id = p.id\n",
        "    JOIN ingredient i ON pi.ingredient_id = i.id\n",
        "    ORDER BY p.id, pi.rank\n",
        "    LIMIT 40\n",
        "    \"\"\",\n",
        "    conn\n",
        ")\n",
        "\n",
        "print(\"\\n🔗 Products with their Ingredients (JOIN Example):\")\n",
        "products_with_ingredients\n"
      ]
    },
    {
      "cell_type": "code",
      "execution_count": null,
      "metadata": {},
      "outputs": [],
      "source": [
        "# Most common ingredients across all products\n",
        "common_ingredients = pd.read_sql_query(\n",
        "    \"\"\"\n",
        "    SELECT \n",
        "        i.name as ingredient_name,\n",
        "        COUNT(DISTINCT pi.product_id) as product_count\n",
        "    FROM product_ingredient pi\n",
        "    JOIN ingredient i ON pi.ingredient_id = i.id\n",
        "    GROUP BY i.id, i.name\n",
        "    ORDER BY product_count DESC\n",
        "    LIMIT 20\n",
        "    \"\"\",\n",
        "    conn\n",
        ")\n",
        "\n",
        "print(\"\\n📊 Top 20 Most Common Ingredients Across Products:\")\n",
        "common_ingredients\n"
      ]
    },
    {
      "cell_type": "code",
      "execution_count": null,
      "metadata": {},
      "outputs": [],
      "source": [
        "# Visualize most common ingredients\n",
        "if HAS_VIZ and len(common_ingredients) > 0:\n",
        "    plt.figure(figsize=(12, 8))\n",
        "    plt.barh(common_ingredients['ingredient_name'][:15], \n",
        "             common_ingredients['product_count'][:15])\n",
        "    plt.xlabel('Number of Products')\n",
        "    plt.ylabel('Ingredient')\n",
        "    plt.title('Top 15 Most Common Ingredients')\n",
        "    plt.gca().invert_yaxis()\n",
        "    plt.tight_layout()\n",
        "    plt.show()\n",
        "else:\n",
        "    print(\"Visualization skipped (matplotlib not available or no data)\")\n"
      ]
    },
    {
      "cell_type": "markdown",
      "metadata": {},
      "source": [
        "## 6. Product-Allergen Relationships\n",
        "\n",
        "The `product_allergen` table provides denormalized allergen information for products.\n"
      ]
    },
    {
      "cell_type": "code",
      "execution_count": null,
      "metadata": {},
      "outputs": [],
      "source": [
        "# 🔗 JOIN: Products with allergen warnings\n",
        "products_with_allergens = pd.read_sql_query(\n",
        "    \"\"\"\n",
        "    SELECT \n",
        "        p.name as product_name,\n",
        "        p.brand,\n",
        "        a.name as allergen_name,\n",
        "        pa.relation_type\n",
        "    FROM product_allergen pa\n",
        "    JOIN product p ON pa.product_id = p.id\n",
        "    JOIN allergen a ON pa.allergen_id = a.id\n",
        "    LIMIT 30\n",
        "    \"\"\",\n",
        "    conn\n",
        ")\n",
        "\n",
        "print(\"\\n🔗 Products with Allergen Information (JOIN Example):\")\n",
        "products_with_allergens\n"
      ]
    },
    {
      "cell_type": "markdown",
      "metadata": {},
      "source": [
        "## 7. Complex Multi-Table Queries\n",
        "\n",
        "Now let's combine multiple tables to answer more complex questions!\n"
      ]
    },
    {
      "cell_type": "code",
      "execution_count": null,
      "metadata": {},
      "outputs": [],
      "source": [
        "# Complex Query 1: Find all products containing a specific allergen through their ingredients\n",
        "allergen_name = 'gluten'\n",
        "\n",
        "products_with_gluten = pd.read_sql_query(\n",
        "    f\"\"\"\n",
        "    SELECT DISTINCT\n",
        "        p.name as product_name,\n",
        "        p.brand,\n",
        "        i.name as ingredient_name,\n",
        "        a.name as allergen_name\n",
        "    FROM product p\n",
        "    JOIN product_ingredient pi ON p.id = pi.product_id\n",
        "    JOIN ingredient i ON pi.ingredient_id = i.id\n",
        "    JOIN ingredient_allergen ia ON i.id = ia.ingredient_id\n",
        "    JOIN allergen a ON ia.allergen_id = a.id\n",
        "    WHERE LOWER(a.name) LIKE '%{allergen_name}%'\n",
        "    LIMIT 20\n",
        "    \"\"\",\n",
        "    conn\n",
        ")\n",
        "\n",
        "print(f\"\\n🔍 Products containing '{allergen_name}' (through ingredients):\")\n",
        "print(f\"Found {len(products_with_gluten)} products\")\n",
        "products_with_gluten\n"
      ]
    },
    {
      "cell_type": "code",
      "execution_count": null,
      "metadata": {},
      "outputs": [],
      "source": [
        "# Complex Query 2: Complete product details with ingredients and allergens\n",
        "product_detail_query = \"\"\"\n",
        "SELECT \n",
        "    p.name as product_name,\n",
        "    p.brand,\n",
        "    GROUP_CONCAT(DISTINCT i.name, ', ') as ingredients,\n",
        "    GROUP_CONCAT(DISTINCT a.name, ', ') as allergens\n",
        "FROM product p\n",
        "LEFT JOIN product_ingredient pi ON p.id = pi.product_id\n",
        "LEFT JOIN ingredient i ON pi.ingredient_id = i.id\n",
        "LEFT JOIN product_allergen pa ON p.id = pa.product_id\n",
        "LEFT JOIN allergen a ON pa.allergen_id = a.id\n",
        "GROUP BY p.id, p.name, p.brand\n",
        "LIMIT 10\n",
        "\"\"\"\n",
        "\n",
        "product_details = pd.read_sql_query(product_detail_query, conn)\n",
        "\n",
        "print(\"\\n🔗 Complete Product Details (Ingredients + Allergens):\")\n",
        "product_details\n"
      ]
    },
    {
      "cell_type": "code",
      "execution_count": null,
      "metadata": {},
      "outputs": [],
      "source": [
        "# Complex Query 3: Products safe for people with specific allergies\n",
        "avoid_allergen = 'milk'  # Change this to search for different allergens\n",
        "\n",
        "safe_products = pd.read_sql_query(\n",
        "    f\"\"\"\n",
        "    SELECT \n",
        "        p.id,\n",
        "        p.name as product_name,\n",
        "        p.brand\n",
        "    FROM product p\n",
        "    WHERE p.id NOT IN (\n",
        "        SELECT DISTINCT pa.product_id\n",
        "        FROM product_allergen pa\n",
        "        JOIN allergen a ON pa.allergen_id = a.id\n",
        "        WHERE LOWER(a.name) LIKE '%{avoid_allergen}%'\n",
        "    )\n",
        "    LIMIT 20\n",
        "    \"\"\",\n",
        "    conn\n",
        ")\n",
        "\n",
        "print(f\"\\n✅ Products WITHOUT '{avoid_allergen}':\")\n",
        "print(f\"Found {len(safe_products)} products\")\n",
        "safe_products\n"
      ]
    },
    {
      "cell_type": "markdown",
      "metadata": {},
      "source": [
        "## 8. Data Summary\n",
        "\n",
        "Let's create a comprehensive summary of the database.\n"
      ]
    },
    {
      "cell_type": "code",
      "execution_count": null,
      "metadata": {},
      "outputs": [],
      "source": [
        "# Overall database summary\n",
        "summary = pd.read_sql_query(\n",
        "    \"\"\"\n",
        "    SELECT \n",
        "        'Ingredients' as table_name,\n",
        "        COUNT(*) as record_count\n",
        "    FROM ingredient\n",
        "    UNION ALL\n",
        "    SELECT 'Allergens', COUNT(*) FROM allergen\n",
        "    UNION ALL\n",
        "    SELECT 'Products', COUNT(*) FROM product\n",
        "    UNION ALL\n",
        "    SELECT 'Ingredient-Allergen Links', COUNT(*) FROM ingredient_allergen\n",
        "    UNION ALL\n",
        "    SELECT 'Product-Ingredient Links', COUNT(*) FROM product_ingredient\n",
        "    UNION ALL\n",
        "    SELECT 'Product-Allergen Links', COUNT(*) FROM product_allergen\n",
        "    \"\"\",\n",
        "    conn\n",
        ")\n",
        "\n",
        "print(\"\\n📊 DATABASE SUMMARY:\")\n",
        "print(\"=\"*50)\n",
        "for idx, row in summary.iterrows():\n",
        "    print(f\"{row['table_name']:<30} {row['record_count']:>15,}\")\n",
        "print(\"=\"*50)\n"
      ]
    },
    {
      "cell_type": "markdown",
      "metadata": {},
      "source": [
        "## 9. Helper Functions for Custom Analysis\n",
        "\n",
        "Here are some reusable functions you can modify for your own analysis.\n"
      ]
    },
    {
      "cell_type": "code",
      "execution_count": null,
      "metadata": {},
      "outputs": [],
      "source": [
        "def find_products_with_ingredient(ingredient_name):\n",
        "    \"\"\"\n",
        "    Find all products containing a specific ingredient.\n",
        "    \n",
        "    Example: find_products_with_ingredient('sugar')\n",
        "    \"\"\"\n",
        "    query = f\"\"\"\n",
        "    SELECT DISTINCT\n",
        "        p.name as product_name,\n",
        "        p.brand,\n",
        "        i.name as ingredient_name\n",
        "    FROM product p\n",
        "    JOIN product_ingredient pi ON p.id = pi.product_id\n",
        "    JOIN ingredient i ON pi.ingredient_id = i.id\n",
        "    WHERE LOWER(i.name) LIKE '%{ingredient_name.lower()}%'\n",
        "    LIMIT 50\n",
        "    \"\"\"\n",
        "    result = pd.read_sql_query(query, conn)\n",
        "    print(f\"Found {len(result)} products containing '{ingredient_name}'\")\n",
        "    return result\n",
        "\n",
        "def analyze_product_allergens(product_name):\n",
        "    \"\"\"\n",
        "    Get all allergen information for a specific product.\n",
        "    \n",
        "    Example: analyze_product_allergens('chocolate')\n",
        "    \"\"\"\n",
        "    query = f\"\"\"\n",
        "    SELECT \n",
        "        p.name as product_name,\n",
        "        p.brand,\n",
        "        a.name as allergen,\n",
        "        pa.relation_type\n",
        "    FROM product p\n",
        "    LEFT JOIN product_allergen pa ON p.id = pa.product_id\n",
        "    LEFT JOIN allergen a ON pa.allergen_id = a.id\n",
        "    WHERE LOWER(p.name) LIKE '%{product_name.lower()}%'\n",
        "    \"\"\"\n",
        "    return pd.read_sql_query(query, conn)\n",
        "\n",
        "def get_ingredient_details(ingredient_name):\n",
        "    \"\"\"\n",
        "    Get comprehensive details about an ingredient including allergens.\n",
        "    \n",
        "    Example: get_ingredient_details('wheat')\n",
        "    \"\"\"\n",
        "    query = f\"\"\"\n",
        "    SELECT \n",
        "        i.name as ingredient_name,\n",
        "        i.code,\n",
        "        i.source,\n",
        "        GROUP_CONCAT(DISTINCT a.name, ', ') as allergens\n",
        "    FROM ingredient i\n",
        "    LEFT JOIN ingredient_allergen ia ON i.id = ia.ingredient_id\n",
        "    LEFT JOIN allergen a ON ia.allergen_id = a.id\n",
        "    WHERE LOWER(i.name) LIKE '%{ingredient_name.lower()}%'\n",
        "    GROUP BY i.id, i.name, i.code, i.source\n",
        "    \"\"\"\n",
        "    return pd.read_sql_query(query, conn)\n",
        "\n",
        "print(\"✅ Helper functions defined!\")\n",
        "print(\"\\nAvailable functions:\")\n",
        "print(\"  - find_products_with_ingredient(ingredient_name)\")\n",
        "print(\"  - analyze_product_allergens(product_name)\")\n",
        "print(\"  - get_ingredient_details(ingredient_name)\")\n"
      ]
    },
    {
      "cell_type": "code",
      "execution_count": null,
      "metadata": {},
      "outputs": [],
      "source": [
        "# Try out the helper functions! Uncomment to use:\n",
        "\n",
        "# Example 1: Find products with sugar\n",
        "# find_products_with_ingredient('sugar')\n",
        "\n",
        "# Example 2: Analyze chocolate products for allergens\n",
        "# analyze_product_allergens('chocolate')\n",
        "\n",
        "# Example 3: Get details about wheat ingredient\n",
        "# get_ingredient_details('wheat')\n"
      ]
    },
    {
      "cell_type": "markdown",
      "metadata": {},
      "source": []
    },
    {
      "cell_type": "code",
      "execution_count": null,
      "metadata": {},
      "outputs": [],
      "source": [
        "# Example: Export all ingredients to CSV (uncomment to use)\n",
        "# ingredients_df = pd.read_sql_query(\"SELECT * FROM ingredient\", conn)\n",
        "# ingredients_df.to_csv('ingredients_export.csv', index=False)\n",
        "# print(\"Exported ingredients to ingredients_export.csv\")\n",
        "\n",
        "# Example: Export products with allergen counts (uncomment to use)\n",
        "# allergen_summary = pd.read_sql_query(\n",
        "#     \"\"\"\n",
        "#     SELECT \n",
        "#         p.name,\n",
        "#         p.brand,\n",
        "#         COUNT(DISTINCT pa.allergen_id) as allergen_count\n",
        "#     FROM product p\n",
        "#     LEFT JOIN product_allergen pa ON p.id = pa.product_id\n",
        "#     GROUP BY p.id, p.name, p.brand\n",
        "#     \"\"\",\n",
        "#     conn\n",
        "# )\n",
        "# allergen_summary.to_csv('product_allergen_summary.csv', index=False)\n",
        "# print(\"Exported product allergen summary to product_allergen_summary.csv\")\n",
        "\n",
        "print(\"ℹ️  Uncomment the code above to export data to CSV files\")\n"
      ]
    },
    {
      "cell_type": "markdown",
      "metadata": {},
      "source": [
        "## Cleanup\n",
        "\n",
        "Don't forget to close the database connection when done!\n"
      ]
    },
    {
      "cell_type": "code",
      "execution_count": null,
      "metadata": {},
      "outputs": [],
      "source": [
        "# Close the connection\n",
        "conn.close()\n",
        "print(\"✅ Database connection closed.\")\n"
      ]
    },
    {
      "cell_type": "markdown",
      "metadata": {},
      "source": [
        "---\n",
        "\n",
        "## Next Steps\n",
        "\n",
        "Now that you've explored the database, you can:\n",
        "\n",
        "1. **Modify the queries** above to answer your specific questions\n",
        "2. **Create visualizations** using matplotlib or seaborn\n",
        "3. **Export data** to CSV for analysis in Excel or other tools\n",
        "4. **Build reports** combining multiple queries\n",
        "5. **Integrate with the API** to fetch real-time data\n",
        "\n",
        "### Useful Resources:\n",
        "\n",
        "- SQL Joins: https://www.w3schools.com/sql/sql_join.asp\n",
        "- Pandas Documentation: https://pandas.pydata.org/docs/\n",
        "- SQLite Documentation: https://www.sqlite.org/docs.html\n",
        "- Matplotlib Gallery: https://matplotlib.org/stable/gallery/index.html\n",
        "\n",
        "### Database Schema Quick Reference:\n",
        "\n",
        "**Tables:**\n",
        "- `ingredient` (id, code, name, parent_code, allergen_code, source, last_updated)\n",
        "- `allergen` (id, code, name, category, severity_level)\n",
        "- `ingredient_allergen` (id, ingredient_id, allergen_id, certainty, source)\n",
        "- `product` (id, barcode, name, brand, lang, created_at)\n",
        "- `product_ingredient` (id, product_id, ingredient_id, percent_estimate, rank)\n",
        "- `product_allergen` (id, product_id, allergen_id, relation_type, source)\n",
        "\n",
        "Happy analyzing! 🎉\n"
      ]
    }
  ],
  "metadata": {
    "kernelspec": {
      "display_name": ".venv",
      "language": "python",
      "name": "python3"
    },
    "language_info": {
      "codemirror_mode": {
        "name": "ipython",
        "version": 3
      },
      "file_extension": ".py",
      "mimetype": "text/x-python",
      "name": "python",
      "nbconvert_exporter": "python",
      "pygments_lexer": "ipython3",
      "version": "3.9.6"
    }
  },
  "nbformat": 4,
  "nbformat_minor": 2
}
