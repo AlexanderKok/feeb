{
 "cells": [
  {
   "cell_type": "markdown",
   "metadata": {},
   "source": [
    "# Menu Extraction Data Explorer\n",
    "\n",
    "This notebook helps you explore the menu upload pipeline data.\n",
    "\n",
    "## Tables:\n",
    "- `menu_upload` - Upload tracking records\n",
    "- `menu_upload_stage` - Pipeline stage status\n",
    "- `menu_upload_recipe` - Links uploads to created recipes\n",
    "- `recipe` - Extracted meal/dish information\n",
    "- `recipe_ingredient` - Ingredients for each recipe\n",
    "- `restaurant` - Restaurant information\n",
    "- `menu` - Menu information\n"
   ]
  },
  {
   "cell_type": "code",
   "execution_count": null,
   "metadata": {},
   "outputs": [
    {
     "name": "stderr",
     "output_type": "stream",
     "text": [
      "/var/folders/s_/nn0tqk3548d9xbrc07r8f4_r0000gn/T/ipykernel_62232/1735630722.py:3: DeprecationWarning: \n",
      "Pyarrow will become a required dependency of pandas in the next major release of pandas (pandas 3.0),\n",
      "(to allow more performant data types, such as the Arrow string type, and better interoperability with other libraries)\n",
      "but was not found to be installed on your system.\n",
      "If this would cause problems for you,\n",
      "please provide us feedback at https://github.com/pandas-dev/pandas/issues/54466\n",
      "        \n",
      "  import pandas as pd\n"
     ]
    },
    {
     "ename": "ImportError",
     "evalue": "cannot import name 'get_async_session' from 'app.database' (/Users/alexanderkok/feeb/apps/api/app/database.py)",
     "output_type": "error",
     "traceback": [
      "\u001b[0;31m---------------------------------------------------------------------------\u001b[0m",
      "\u001b[0;31mImportError\u001b[0m                               Traceback (most recent call last)",
      "Cell \u001b[0;32mIn[1], line 8\u001b[0m\n\u001b[1;32m      5\u001b[0m \u001b[38;5;28;01mimport\u001b[39;00m\u001b[38;5;250m \u001b[39m\u001b[38;5;21;01msys\u001b[39;00m\n\u001b[1;32m      6\u001b[0m sys\u001b[38;5;241m.\u001b[39mpath\u001b[38;5;241m.\u001b[39mappend(\u001b[38;5;124m'\u001b[39m\u001b[38;5;124m.\u001b[39m\u001b[38;5;124m'\u001b[39m)\n\u001b[0;32m----> 8\u001b[0m \u001b[38;5;28;01mfrom\u001b[39;00m\u001b[38;5;250m \u001b[39m\u001b[38;5;21;01mapp\u001b[39;00m\u001b[38;5;21;01m.\u001b[39;00m\u001b[38;5;21;01mdatabase\u001b[39;00m\u001b[38;5;250m \u001b[39m\u001b[38;5;28;01mimport\u001b[39;00m get_async_session\n\u001b[1;32m     10\u001b[0m \u001b[38;5;66;03m# Display settings\u001b[39;00m\n\u001b[1;32m     11\u001b[0m pd\u001b[38;5;241m.\u001b[39mset_option(\u001b[38;5;124m'\u001b[39m\u001b[38;5;124mdisplay.max_columns\u001b[39m\u001b[38;5;124m'\u001b[39m, \u001b[38;5;28;01mNone\u001b[39;00m)\n",
      "\u001b[0;31mImportError\u001b[0m: cannot import name 'get_async_session' from 'app.database' (/Users/alexanderkok/feeb/apps/api/app/database.py)"
     ]
    }
   ],
   "source": [
    "# Setup: Import libraries\n",
    "import asyncio\n",
    "import pandas as pd\n",
    "from sqlalchemy import text\n",
    "import sys\n",
    "sys.path.append('.')\n",
    "\n",
    "from app.database import AsyncSessionLocal\n",
    "\n",
    "# Display settings\n",
    "pd.set_option('display.max_columns', None)\n",
    "pd.set_option('display.max_colwidth', 100)\n",
    "pd.set_option('display.width', None)\n",
    "\n",
    "print(\"✅ Setup complete!\")\n"
   ]
  },
  {
   "cell_type": "code",
   "execution_count": null,
   "metadata": {},
   "outputs": [],
   "source": [
    "# Helper function to query the database\n",
    "async def query_db(sql: str):\n",
    "    \"\"\"Execute a SQL query and return results as a pandas DataFrame.\"\"\"\n",
    "    async with AsyncSessionLocal() as session:\n",
    "        result = await session.execute(text(sql))\n",
    "        rows = result.fetchall()\n",
    "        columns = result.keys()\n",
    "        return pd.DataFrame(rows, columns=columns)\n",
    "\n",
    "print(\"✅ Helper functions loaded!\")\n"
   ]
  },
  {
   "cell_type": "markdown",
   "metadata": {},
   "source": [
    "## 1. Menu Uploads Overview\n"
   ]
  },
  {
   "cell_type": "code",
   "execution_count": null,
   "metadata": {},
   "outputs": [],
   "source": [
    "# View all menu uploads\n",
    "uploads = await query_db(\"SELECT * FROM menu_upload ORDER BY created_at DESC\")\n",
    "print(f\"Total uploads: {len(uploads)}\")\n",
    "uploads.head(10)\n"
   ]
  },
  {
   "cell_type": "code",
   "execution_count": null,
   "metadata": {},
   "outputs": [],
   "source": [
    "# Upload status breakdown\n",
    "status_counts = await query_db(\"\"\"\n",
    "    SELECT status, COUNT(*) as count \n",
    "    FROM menu_upload \n",
    "    GROUP BY status\n",
    "\"\"\")\n",
    "status_counts\n"
   ]
  },
  {
   "cell_type": "markdown",
   "metadata": {},
   "source": [
    "## 2. Pipeline Stages\n"
   ]
  },
  {
   "cell_type": "code",
   "execution_count": null,
   "metadata": {},
   "outputs": [],
   "source": [
    "# View stage progress\n",
    "stages = await query_db(\"\"\"\n",
    "    SELECT \n",
    "        mu.id as upload_id,\n",
    "        mu.source_type,\n",
    "        mus.stage,\n",
    "        mus.status,\n",
    "        mus.started_at,\n",
    "        mus.completed_at,\n",
    "        mus.error_message\n",
    "    FROM menu_upload mu\n",
    "    LEFT JOIN menu_upload_stage mus ON mu.id = mus.menu_upload_id\n",
    "    ORDER BY mu.created_at DESC, mus.stage\n",
    "\"\"\")\n",
    "stages.head(20)\n"
   ]
  },
  {
   "cell_type": "markdown",
   "metadata": {},
   "source": [
    "## 3. Extracted Recipes (Meals)\n"
   ]
  },
  {
   "cell_type": "code",
   "execution_count": null,
   "metadata": {},
   "outputs": [],
   "source": [
    "# View all recipes\n",
    "recipes = await query_db(\"\"\"\n",
    "    SELECT \n",
    "        r.*,\n",
    "        rest.name as restaurant_name\n",
    "    FROM recipe r\n",
    "    LEFT JOIN restaurant rest ON r.restaurant_id = rest.id\n",
    "    ORDER BY r.created_at DESC\n",
    "\"\"\")\n",
    "print(f\"Total recipes: {len(recipes)}\")\n",
    "recipes.head(10)\n"
   ]
  },
  {
   "cell_type": "markdown",
   "metadata": {},
   "source": [
    "## 4. Recipe Ingredients (Enriched Data)\n"
   ]
  },
  {
   "cell_type": "code",
   "execution_count": null,
   "metadata": {},
   "outputs": [],
   "source": [
    "# View recipe ingredients with ingredient names\n",
    "recipe_ingredients = await query_db(\"\"\"\n",
    "    SELECT \n",
    "        r.name as recipe_name,\n",
    "        i.name as ingredient_name,\n",
    "        ri.quantity,\n",
    "        ri.unit,\n",
    "        ri.notes,\n",
    "        ri.allergens,\n",
    "        ri.confirmed\n",
    "    FROM recipe_ingredient ri\n",
    "    JOIN recipe r ON ri.recipe_id = r.id\n",
    "    JOIN ingredient i ON ri.ingredient_id = i.id\n",
    "    ORDER BY r.name, i.name\n",
    "\"\"\")\n",
    "print(f\"Total recipe-ingredient links: {len(recipe_ingredients)}\")\n",
    "recipe_ingredients.head(20)\n"
   ]
  },
  {
   "cell_type": "code",
   "execution_count": null,
   "metadata": {},
   "outputs": [],
   "source": [
    "# Count ingredients per recipe\n",
    "ingredients_per_recipe = await query_db(\"\"\"\n",
    "    SELECT \n",
    "        r.name as recipe_name,\n",
    "        COUNT(ri.ingredient_id) as ingredient_count\n",
    "    FROM recipe r\n",
    "    LEFT JOIN recipe_ingredient ri ON r.id = ri.recipe_id\n",
    "    GROUP BY r.id, r.name\n",
    "    ORDER BY ingredient_count DESC\n",
    "\"\"\")\n",
    "ingredients_per_recipe.head(10)\n"
   ]
  },
  {
   "cell_type": "markdown",
   "metadata": {},
   "source": [
    "## 5. Database Summary\n"
   ]
  },
  {
   "cell_type": "code",
   "execution_count": null,
   "metadata": {},
   "outputs": [],
   "source": [
    "# Get counts of all menu-related tables\n",
    "summary = await query_db(\"\"\"\n",
    "    SELECT 'menu_upload' as table_name, COUNT(*) as count FROM menu_upload\n",
    "    UNION ALL\n",
    "    SELECT 'menu_upload_stage', COUNT(*) FROM menu_upload_stage\n",
    "    UNION ALL\n",
    "    SELECT 'menu_upload_recipe', COUNT(*) FROM menu_upload_recipe\n",
    "    UNION ALL\n",
    "    SELECT 'recipe', COUNT(*) FROM recipe\n",
    "    UNION ALL\n",
    "    SELECT 'recipe_ingredient', COUNT(*) FROM recipe_ingredient\n",
    "    UNION ALL\n",
    "    SELECT 'restaurant', COUNT(*) FROM restaurant\n",
    "    UNION ALL\n",
    "    SELECT 'menu', COUNT(*) FROM menu\n",
    "\"\"\")\n",
    "\n",
    "print(\"\\n📊 MENU EXTRACTION DATABASE SUMMARY\")\n",
    "print(\"=\"*50)\n",
    "summary\n"
   ]
  }
 ],
 "metadata": {
  "kernelspec": {
   "display_name": "Python 3.9.6 (ingredient-api)",
   "language": "python",
   "name": "ingredient-api"
  },
  "language_info": {
   "codemirror_mode": {
    "name": "ipython",
    "version": 3
   },
   "file_extension": ".py",
   "mimetype": "text/x-python",
   "name": "python",
   "nbconvert_exporter": "python",
   "pygments_lexer": "ipython3",
   "version": "3.9.6"
  }
 },
 "nbformat": 4,
 "nbformat_minor": 4
}
